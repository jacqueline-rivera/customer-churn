{
 "cells": [
  {
   "cell_type": "code",
   "execution_count": 1,
   "id": "ba039157",
   "metadata": {},
   "outputs": [],
   "source": [
    "import pandas as pd\n",
    "import numpy as np\n",
    "import joblib\n",
    "from sklearn.feature_selection import SequentialFeatureSelector\n",
    "from sklearn.feature_selection import SelectFromModel"
   ]
  },
  {
   "cell_type": "code",
   "execution_count": 2,
   "id": "389099ba",
   "metadata": {},
   "outputs": [],
   "source": [
    "X_train = pd.read_csv('X_train.csv')\n",
    "y_train = pd.read_csv('y_train.csv')\n",
    "\n",
    "feature_names = np.array(X_train.columns)"
   ]
  },
  {
   "cell_type": "code",
   "execution_count": 3,
   "id": "aea3419f",
   "metadata": {},
   "outputs": [],
   "source": [
    "models = {}\n",
    "\n",
    "for model in ['LR', 'RF', 'GB']:\n",
    "    models[model] = joblib.load('{}.pkl'.format(model))"
   ]
  },
  {
   "cell_type": "code",
   "execution_count": 4,
   "id": "1701b0bd",
   "metadata": {},
   "outputs": [
    {
     "name": "stdout",
     "output_type": "stream",
     "text": [
      "LR Selected Features: ['tenure', 'MonthlyCharges', 'TotalCharges', 'InternetService_Fiber optic', 'StreamingMovies_Streaming Movies', 'Contract_Two year']\n",
      "\n",
      "RF Selected Features: ['tenure', 'MonthlyCharges', 'TotalCharges', 'InternetService_Fiber optic', 'Contract_One year', 'Contract_Two year', 'PaymentMethod_Electronic check']\n",
      "\n",
      "GB Selected Features: ['tenure', 'MonthlyCharges', 'TotalCharges', 'InternetService_Fiber optic', 'Contract_One year', 'Contract_Two year']\n",
      "\n"
     ]
    }
   ],
   "source": [
    "features = {}\n",
    "\n",
    "for model in ['LR', 'RF', 'GB']:\n",
    "    selector = SelectFromModel(estimator=models[model], prefit=True)\n",
    "    features['{}_features'.format(model)] = list(feature_names[selector.get_support()])\n",
    "    print('{} Selected Features:'.format(model), features['{}_features'.format(model)])\n",
    "    print('')"
   ]
  },
  {
   "cell_type": "code",
   "execution_count": 5,
   "id": "d9c97392",
   "metadata": {},
   "outputs": [
    {
     "name": "stdout",
     "output_type": "stream",
     "text": [
      "Features selected for all three models:\n",
      "- TotalCharges\n",
      "- MonthlyCharges\n",
      "- InternetService_Fiber optic\n",
      "- Contract_Two year\n",
      "- tenure\n"
     ]
    }
   ],
   "source": [
    "print('Features selected for all three models:')\n",
    "\n",
    "for feat in set(features['LR_features']) & set(features['RF_features']) & set(features['GB_features']):\n",
    "    print(\"-\", feat)"
   ]
  },
  {
   "cell_type": "code",
   "execution_count": 6,
   "id": "f9a1948d",
   "metadata": {},
   "outputs": [
    {
     "name": "stdout",
     "output_type": "stream",
     "text": [
      "Features not selected for any of the three models:\n",
      "- gender\n",
      "- SeniorCitizen\n",
      "- Partner\n",
      "- Dependents\n",
      "- PhoneService\n",
      "- PaperlessBilling\n",
      "- MultipleLines_No phone service\n",
      "- MultipleLines_Single Line\n",
      "- InternetService_No internet service\n",
      "- OnlineSecurity_No internet service\n",
      "- OnlineSecurity_Online Security\n",
      "- OnlineBackup_No internet service\n",
      "- OnlineBackup_Online Backup\n",
      "- DeviceProtection_No Device Protection\n",
      "- DeviceProtection_No internet service\n",
      "- TechSupport_No internet service\n",
      "- TechSupport_Tech Support\n",
      "- StreamingTV_Not Streaming TV\n",
      "- StreamingTV_Streaming TV\n",
      "- StreamingMovies_Not Streaming Movies\n",
      "- PaymentMethod_Credit card (automatic)\n",
      "- PaymentMethod_Mailed check\n"
     ]
    }
   ],
   "source": [
    "print('Features not selected for any of the three models:')\n",
    "\n",
    "for col in feature_names:\n",
    "    if (col not in features['LR_features']) & (col not in features['RF_features']) & (col not in features['GB_features']):\n",
    "        print(\"-\", col)"
   ]
  },
  {
   "cell_type": "code",
   "execution_count": null,
   "id": "6588350a",
   "metadata": {},
   "outputs": [],
   "source": []
  }
 ],
 "metadata": {
  "kernelspec": {
   "display_name": "Python 3",
   "language": "python",
   "name": "python3"
  },
  "language_info": {
   "codemirror_mode": {
    "name": "ipython",
    "version": 3
   },
   "file_extension": ".py",
   "mimetype": "text/x-python",
   "name": "python",
   "nbconvert_exporter": "python",
   "pygments_lexer": "ipython3",
   "version": "3.8.8"
  }
 },
 "nbformat": 4,
 "nbformat_minor": 5
}
