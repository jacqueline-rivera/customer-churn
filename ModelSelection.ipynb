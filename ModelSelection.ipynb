{
 "cells": [
  {
   "cell_type": "code",
   "execution_count": 1,
   "id": "d53eef4a",
   "metadata": {},
   "outputs": [],
   "source": [
    "import pandas as pd\n",
    "import joblib\n",
    "from sklearn.metrics import accuracy_score, f1_score, confusion_matrix\n",
    "import matplotlib.pyplot as plt\n",
    "import seaborn as sns"
   ]
  },
  {
   "cell_type": "code",
   "execution_count": 2,
   "id": "97f31476",
   "metadata": {},
   "outputs": [],
   "source": [
    "X_val = pd.read_csv('X_val.csv')\n",
    "y_val = pd.read_csv('y_val.csv')\n",
    "\n",
    "X_test = pd.read_csv('X_test.csv')\n",
    "y_test = pd.read_csv('y_test.csv')"
   ]
  },
  {
   "cell_type": "code",
   "execution_count": 3,
   "id": "7614d806",
   "metadata": {},
   "outputs": [],
   "source": [
    "models = {}\n",
    "\n",
    "for model in ['LR', 'RF', 'GB']:\n",
    "    models[model] = joblib.load('{}.pkl'.format(model))"
   ]
  },
  {
   "cell_type": "markdown",
   "id": "f96290c4",
   "metadata": {},
   "source": [
    "## Validation"
   ]
  },
  {
   "cell_type": "code",
   "execution_count": 4,
   "id": "bc9ce05e",
   "metadata": {},
   "outputs": [],
   "source": [
    "def evaluate_model(name, model, X, y):\n",
    "    y_pred = model.predict(X)\n",
    "    accuracy = round(100*accuracy_score(y, y_pred), 2)\n",
    "    f1 = round(100*f1_score(y, y_pred), 2)\n",
    "    print('{} Accuracy: {} / F1 Score: {}'.format(name, accuracy, f1))\n",
    "    return"
   ]
  },
  {
   "cell_type": "code",
   "execution_count": 5,
   "id": "e606c441",
   "metadata": {},
   "outputs": [
    {
     "name": "stdout",
     "output_type": "stream",
     "text": [
      "LR Accuracy: 74.52 / F1 Score: 72.45\n",
      "RF Accuracy: 80.82 / F1 Score: 78.9\n",
      "GB Accuracy: 79.17 / F1 Score: 77.56\n"
     ]
    }
   ],
   "source": [
    "for model in ['LR', 'RF', 'GB']:\n",
    "    evaluate_model(model, models[model], X_val, y_val)"
   ]
  },
  {
   "cell_type": "markdown",
   "id": "163729f2",
   "metadata": {},
   "source": [
    "## Test "
   ]
  },
  {
   "cell_type": "code",
   "execution_count": 6,
   "id": "f5ba4a54",
   "metadata": {},
   "outputs": [
    {
     "name": "stdout",
     "output_type": "stream",
     "text": [
      "Accuracy: 82.32\n",
      "F1 Score: 81.27\n"
     ]
    }
   ],
   "source": [
    "# using best performing model on test set:\n",
    "y_pred = models['RF'].predict(X_test)\n",
    "\n",
    "accuracy = round(100*accuracy_score(y_test, y_pred), 2)\n",
    "f1 = round(100*f1_score(y_test, y_pred), 2)\n",
    "\n",
    "print('Accuracy:', accuracy)\n",
    "print('F1 Score:', f1)"
   ]
  },
  {
   "cell_type": "code",
   "execution_count": 7,
   "id": "d2122670",
   "metadata": {},
   "outputs": [
    {
     "data": {
      "image/png": "[encoded data removed]",
      "text/plain": [
       "<Figure size 432x288 with 2 Axes>"
      ]
     },
     "metadata": {
      "needs_background": "light"
     },
     "output_type": "display_data"
    }
   ],
   "source": [
    "# confusion matrix\n",
    "ax = sns.heatmap(confusion_matrix(y_test, y_pred), \n",
    "                 cmap='Blues', \n",
    "                 annot=True, \n",
    "                 fmt='g')\n",
    "ax.set(ylabel='True Label', xlabel='Predicted Label')\n",
    "plt.title('Confusion Matrix for Random Forest')\n",
    "plt.show()"
   ]
  },
  {
   "cell_type": "code",
   "execution_count": null,
   "id": "1a5b3f5c",
   "metadata": {},
   "outputs": [],
   "source": []
  }
 ],
 "metadata": {
  "kernelspec": {
   "display_name": "Python 3",
   "language": "python",
   "name": "python3"
  },
  "language_info": {
   "codemirror_mode": {
    "name": "ipython",
    "version": 3
   },
   "file_extension": ".py",
   "mimetype": "text/x-python",
   "name": "python",
   "nbconvert_exporter": "python",
   "pygments_lexer": "ipython3",
   "version": "3.8.8"
  }
 },
 "nbformat": 4,
 "nbformat_minor": 5
}
