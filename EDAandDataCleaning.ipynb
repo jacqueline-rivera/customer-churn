{
 "cells": [
  {
   "cell_type": "code",
   "execution_count": 1,
   "id": "60ca715c",
   "metadata": {},
   "outputs": [],
   "source": [
    "import pandas as pd\n",
    "import numpy as np\n",
    "import matplotlib.pyplot as plt\n",
    "import seaborn as sns"
   ]
  },
  {
   "cell_type": "code",
   "execution_count": 2,
   "id": "47ce12b0",
   "metadata": {},
   "outputs": [],
   "source": [
    "df_orig = pd.read_csv('customerchurn.csv')\n",
    "df = df_orig.copy()"
   ]
  },
  {
   "cell_type": "code",
   "execution_count": 3,
   "id": "93c126b4",
   "metadata": {},
   "outputs": [
    {
     "data": {
      "text/html": [
       "<div>\n",
       "<style scoped>\n",
       "    .dataframe tbody tr th:only-of-type {\n",
       "        vertical-align: middle;\n",
       "    }\n",
       "\n",
       "    .dataframe tbody tr th {\n",
       "        vertical-align: top;\n",
       "    }\n",
       "\n",
       "    .dataframe thead th {\n",
       "        text-align: right;\n",
       "    }\n",
       "</style>\n",
       "<table border=\"1\" class=\"dataframe\">\n",
       "  <thead>\n",
       "    <tr style=\"text-align: right;\">\n",
       "      <th></th>\n",
       "      <th>customerID</th>\n",
       "      <th>gender</th>\n",
       "      <th>SeniorCitizen</th>\n",
       "      <th>Partner</th>\n",
       "      <th>Dependents</th>\n",
       "      <th>tenure</th>\n",
       "      <th>PhoneService</th>\n",
       "      <th>MultipleLines</th>\n",
       "      <th>InternetService</th>\n",
       "      <th>OnlineSecurity</th>\n",
       "      <th>...</th>\n",
       "      <th>DeviceProtection</th>\n",
       "      <th>TechSupport</th>\n",
       "      <th>StreamingTV</th>\n",
       "      <th>StreamingMovies</th>\n",
       "      <th>Contract</th>\n",
       "      <th>PaperlessBilling</th>\n",
       "      <th>PaymentMethod</th>\n",
       "      <th>MonthlyCharges</th>\n",
       "      <th>TotalCharges</th>\n",
       "      <th>Churn</th>\n",
       "    </tr>\n",
       "  </thead>\n",
       "  <tbody>\n",
       "    <tr>\n",
       "      <th>0</th>\n",
       "      <td>7590-VHVEG</td>\n",
       "      <td>Female</td>\n",
       "      <td>0</td>\n",
       "      <td>Yes</td>\n",
       "      <td>No</td>\n",
       "      <td>1</td>\n",
       "      <td>No</td>\n",
       "      <td>No phone service</td>\n",
       "      <td>DSL</td>\n",
       "      <td>No</td>\n",
       "      <td>...</td>\n",
       "      <td>No</td>\n",
       "      <td>No</td>\n",
       "      <td>No</td>\n",
       "      <td>No</td>\n",
       "      <td>Month-to-month</td>\n",
       "      <td>Yes</td>\n",
       "      <td>Electronic check</td>\n",
       "      <td>29.85</td>\n",
       "      <td>29.85</td>\n",
       "      <td>No</td>\n",
       "    </tr>\n",
       "    <tr>\n",
       "      <th>1</th>\n",
       "      <td>5575-GNVDE</td>\n",
       "      <td>Male</td>\n",
       "      <td>0</td>\n",
       "      <td>No</td>\n",
       "      <td>No</td>\n",
       "      <td>34</td>\n",
       "      <td>Yes</td>\n",
       "      <td>No</td>\n",
       "      <td>DSL</td>\n",
       "      <td>Yes</td>\n",
       "      <td>...</td>\n",
       "      <td>Yes</td>\n",
       "      <td>No</td>\n",
       "      <td>No</td>\n",
       "      <td>No</td>\n",
       "      <td>One year</td>\n",
       "      <td>No</td>\n",
       "      <td>Mailed check</td>\n",
       "      <td>56.95</td>\n",
       "      <td>1889.5</td>\n",
       "      <td>No</td>\n",
       "    </tr>\n",
       "    <tr>\n",
       "      <th>2</th>\n",
       "      <td>3668-QPYBK</td>\n",
       "      <td>Male</td>\n",
       "      <td>0</td>\n",
       "      <td>No</td>\n",
       "      <td>No</td>\n",
       "      <td>2</td>\n",
       "      <td>Yes</td>\n",
       "      <td>No</td>\n",
       "      <td>DSL</td>\n",
       "      <td>Yes</td>\n",
       "      <td>...</td>\n",
       "      <td>No</td>\n",
       "      <td>No</td>\n",
       "      <td>No</td>\n",
       "      <td>No</td>\n",
       "      <td>Month-to-month</td>\n",
       "      <td>Yes</td>\n",
       "      <td>Mailed check</td>\n",
       "      <td>53.85</td>\n",
       "      <td>108.15</td>\n",
       "      <td>Yes</td>\n",
       "    </tr>\n",
       "    <tr>\n",
       "      <th>3</th>\n",
       "      <td>7795-CFOCW</td>\n",
       "      <td>Male</td>\n",
       "      <td>0</td>\n",
       "      <td>No</td>\n",
       "      <td>No</td>\n",
       "      <td>45</td>\n",
       "      <td>No</td>\n",
       "      <td>No phone service</td>\n",
       "      <td>DSL</td>\n",
       "      <td>Yes</td>\n",
       "      <td>...</td>\n",
       "      <td>Yes</td>\n",
       "      <td>Yes</td>\n",
       "      <td>No</td>\n",
       "      <td>No</td>\n",
       "      <td>One year</td>\n",
       "      <td>No</td>\n",
       "      <td>Bank transfer (automatic)</td>\n",
       "      <td>42.30</td>\n",
       "      <td>1840.75</td>\n",
       "      <td>No</td>\n",
       "    </tr>\n",
       "    <tr>\n",
       "      <th>4</th>\n",
       "      <td>9237-HQITU</td>\n",
       "      <td>Female</td>\n",
       "      <td>0</td>\n",
       "      <td>No</td>\n",
       "      <td>No</td>\n",
       "      <td>2</td>\n",
       "      <td>Yes</td>\n",
       "      <td>No</td>\n",
       "      <td>Fiber optic</td>\n",
       "      <td>No</td>\n",
       "      <td>...</td>\n",
       "      <td>No</td>\n",
       "      <td>No</td>\n",
       "      <td>No</td>\n",
       "      <td>No</td>\n",
       "      <td>Month-to-month</td>\n",
       "      <td>Yes</td>\n",
       "      <td>Electronic check</td>\n",
       "      <td>70.70</td>\n",
       "      <td>151.65</td>\n",
       "      <td>Yes</td>\n",
       "    </tr>\n",
       "  </tbody>\n",
       "</table>\n",
       "<p>5 rows × 21 columns</p>\n",
       "</div>"
      ],
      "text/plain": [
       "   customerID  gender  SeniorCitizen Partner Dependents  tenure PhoneService  \\\n",
       "0  7590-VHVEG  Female              0     Yes         No       1           No   \n",
       "1  5575-GNVDE    Male              0      No         No      34          Yes   \n",
       "2  3668-QPYBK    Male              0      No         No       2          Yes   \n",
       "3  7795-CFOCW    Male              0      No         No      45           No   \n",
       "4  9237-HQITU  Female              0      No         No       2          Yes   \n",
       "\n",
       "      MultipleLines InternetService OnlineSecurity  ... DeviceProtection  \\\n",
       "0  No phone service             DSL             No  ...               No   \n",
       "1                No             DSL            Yes  ...              Yes   \n",
       "2                No             DSL            Yes  ...               No   \n",
       "3  No phone service             DSL            Yes  ...              Yes   \n",
       "4                No     Fiber optic             No  ...               No   \n",
       "\n",
       "  TechSupport StreamingTV StreamingMovies        Contract PaperlessBilling  \\\n",
       "0          No          No              No  Month-to-month              Yes   \n",
       "1          No          No              No        One year               No   \n",
       "2          No          No              No  Month-to-month              Yes   \n",
       "3         Yes          No              No        One year               No   \n",
       "4          No          No              No  Month-to-month              Yes   \n",
       "\n",
       "               PaymentMethod MonthlyCharges  TotalCharges Churn  \n",
       "0           Electronic check          29.85         29.85    No  \n",
       "1               Mailed check          56.95        1889.5    No  \n",
       "2               Mailed check          53.85        108.15   Yes  \n",
       "3  Bank transfer (automatic)          42.30       1840.75    No  \n",
       "4           Electronic check          70.70        151.65   Yes  \n",
       "\n",
       "[5 rows x 21 columns]"
      ]
     },
     "execution_count": 3,
     "metadata": {},
     "output_type": "execute_result"
    }
   ],
   "source": [
    "df.head()"
   ]
  },
  {
   "cell_type": "code",
   "execution_count": 4,
   "id": "475490a1",
   "metadata": {},
   "outputs": [
    {
     "data": {
      "text/plain": [
       "customerID           object\n",
       "gender               object\n",
       "SeniorCitizen         int64\n",
       "Partner              object\n",
       "Dependents           object\n",
       "tenure                int64\n",
       "PhoneService         object\n",
       "MultipleLines        object\n",
       "InternetService      object\n",
       "OnlineSecurity       object\n",
       "OnlineBackup         object\n",
       "DeviceProtection     object\n",
       "TechSupport          object\n",
       "StreamingTV          object\n",
       "StreamingMovies      object\n",
       "Contract             object\n",
       "PaperlessBilling     object\n",
       "PaymentMethod        object\n",
       "MonthlyCharges      float64\n",
       "TotalCharges         object\n",
       "Churn                object\n",
       "dtype: object"
      ]
     },
     "execution_count": 4,
     "metadata": {},
     "output_type": "execute_result"
    }
   ],
   "source": [
    "df.dtypes"
   ]
  },
  {
   "cell_type": "code",
   "execution_count": 5,
   "id": "23ce8c8d",
   "metadata": {},
   "outputs": [
    {
     "name": "stdout",
     "output_type": "stream",
     "text": [
      "[' ', ' ', ' ', ' ', ' ', ' ', ' ', ' ', ' ', ' ', ' ']\n"
     ]
    }
   ],
   "source": [
    "# total charges should be float64.. check what is causing the object data type\n",
    "print([x for x in df['TotalCharges'] if any(char.isdigit() for char in x) == False])"
   ]
  },
  {
   "cell_type": "code",
   "execution_count": 6,
   "id": "497f0423",
   "metadata": {},
   "outputs": [],
   "source": [
    "# replace blanks with NaN\n",
    "df['TotalCharges'] = df['TotalCharges'].replace(' ', np.nan)\n",
    "df['TotalCharges'] = df['TotalCharges'].astype('float64')"
   ]
  },
  {
   "cell_type": "code",
   "execution_count": 7,
   "id": "7c1bd174",
   "metadata": {},
   "outputs": [
    {
     "data": {
      "image/png": "[encoded data removed]",
      "text/plain": [
       "<Figure size 432x288 with 1 Axes>"
      ]
     },
     "metadata": {
      "needs_background": "light"
     },
     "output_type": "display_data"
    }
   ],
   "source": [
    "sns.countplot(x='Churn', data=df, palette='pastel')\n",
    "plt.title('Churn Distribution')\n",
    "plt.ylabel('Count')\n",
    "plt.show()"
   ]
  },
  {
   "cell_type": "markdown",
   "id": "38307037",
   "metadata": {},
   "source": [
    "## Numerical Features"
   ]
  },
  {
   "cell_type": "code",
   "execution_count": 8,
   "id": "b6905ac5",
   "metadata": {},
   "outputs": [],
   "source": [
    "num_features = ['tenure', 'MonthlyCharges', 'TotalCharges']"
   ]
  },
  {
   "cell_type": "code",
   "execution_count": 9,
   "id": "2916a1aa",
   "metadata": {},
   "outputs": [
    {
     "data": {
      "text/html": [
       "<div>\n",
       "<style scoped>\n",
       "    .dataframe tbody tr th:only-of-type {\n",
       "        vertical-align: middle;\n",
       "    }\n",
       "\n",
       "    .dataframe tbody tr th {\n",
       "        vertical-align: top;\n",
       "    }\n",
       "\n",
       "    .dataframe thead th {\n",
       "        text-align: right;\n",
       "    }\n",
       "</style>\n",
       "<table border=\"1\" class=\"dataframe\">\n",
       "  <thead>\n",
       "    <tr style=\"text-align: right;\">\n",
       "      <th></th>\n",
       "      <th>tenure</th>\n",
       "      <th>MonthlyCharges</th>\n",
       "      <th>TotalCharges</th>\n",
       "    </tr>\n",
       "  </thead>\n",
       "  <tbody>\n",
       "    <tr>\n",
       "      <th>count</th>\n",
       "      <td>7043.000000</td>\n",
       "      <td>7043.000000</td>\n",
       "      <td>7032.000000</td>\n",
       "    </tr>\n",
       "    <tr>\n",
       "      <th>mean</th>\n",
       "      <td>32.371149</td>\n",
       "      <td>64.761692</td>\n",
       "      <td>2283.300441</td>\n",
       "    </tr>\n",
       "    <tr>\n",
       "      <th>std</th>\n",
       "      <td>24.559481</td>\n",
       "      <td>30.090047</td>\n",
       "      <td>2266.771362</td>\n",
       "    </tr>\n",
       "    <tr>\n",
       "      <th>min</th>\n",
       "      <td>0.000000</td>\n",
       "      <td>18.250000</td>\n",
       "      <td>18.800000</td>\n",
       "    </tr>\n",
       "    <tr>\n",
       "      <th>25%</th>\n",
       "      <td>9.000000</td>\n",
       "      <td>35.500000</td>\n",
       "      <td>401.450000</td>\n",
       "    </tr>\n",
       "    <tr>\n",
       "      <th>50%</th>\n",
       "      <td>29.000000</td>\n",
       "      <td>70.350000</td>\n",
       "      <td>1397.475000</td>\n",
       "    </tr>\n",
       "    <tr>\n",
       "      <th>75%</th>\n",
       "      <td>55.000000</td>\n",
       "      <td>89.850000</td>\n",
       "      <td>3794.737500</td>\n",
       "    </tr>\n",
       "    <tr>\n",
       "      <th>max</th>\n",
       "      <td>72.000000</td>\n",
       "      <td>118.750000</td>\n",
       "      <td>8684.800000</td>\n",
       "    </tr>\n",
       "  </tbody>\n",
       "</table>\n",
       "</div>"
      ],
      "text/plain": [
       "            tenure  MonthlyCharges  TotalCharges\n",
       "count  7043.000000     7043.000000   7032.000000\n",
       "mean     32.371149       64.761692   2283.300441\n",
       "std      24.559481       30.090047   2266.771362\n",
       "min       0.000000       18.250000     18.800000\n",
       "25%       9.000000       35.500000    401.450000\n",
       "50%      29.000000       70.350000   1397.475000\n",
       "75%      55.000000       89.850000   3794.737500\n",
       "max      72.000000      118.750000   8684.800000"
      ]
     },
     "execution_count": 9,
     "metadata": {},
     "output_type": "execute_result"
    }
   ],
   "source": [
    "df[num_features].describe()"
   ]
  },
  {
   "cell_type": "code",
   "execution_count": 10,
   "id": "a3a83c4e",
   "metadata": {},
   "outputs": [
    {
     "data": {
      "text/html": [
       "<div>\n",
       "<style scoped>\n",
       "    .dataframe tbody tr th:only-of-type {\n",
       "        vertical-align: middle;\n",
       "    }\n",
       "\n",
       "    .dataframe tbody tr th {\n",
       "        vertical-align: top;\n",
       "    }\n",
       "\n",
       "    .dataframe thead th {\n",
       "        text-align: right;\n",
       "    }\n",
       "</style>\n",
       "<table border=\"1\" class=\"dataframe\">\n",
       "  <thead>\n",
       "    <tr style=\"text-align: right;\">\n",
       "      <th></th>\n",
       "      <th>tenure</th>\n",
       "      <th>MonthlyCharges</th>\n",
       "      <th>TotalCharges</th>\n",
       "    </tr>\n",
       "    <tr>\n",
       "      <th>Churn</th>\n",
       "      <th></th>\n",
       "      <th></th>\n",
       "      <th></th>\n",
       "    </tr>\n",
       "  </thead>\n",
       "  <tbody>\n",
       "    <tr>\n",
       "      <th>No</th>\n",
       "      <td>37.569965</td>\n",
       "      <td>61.265124</td>\n",
       "      <td>2555.344141</td>\n",
       "    </tr>\n",
       "    <tr>\n",
       "      <th>Yes</th>\n",
       "      <td>17.979133</td>\n",
       "      <td>74.441332</td>\n",
       "      <td>1531.796094</td>\n",
       "    </tr>\n",
       "  </tbody>\n",
       "</table>\n",
       "</div>"
      ],
      "text/plain": [
       "          tenure  MonthlyCharges  TotalCharges\n",
       "Churn                                         \n",
       "No     37.569965       61.265124   2555.344141\n",
       "Yes    17.979133       74.441332   1531.796094"
      ]
     },
     "execution_count": 10,
     "metadata": {},
     "output_type": "execute_result"
    }
   ],
   "source": [
    "df[num_features + ['Churn']].groupby('Churn').mean()"
   ]
  },
  {
   "cell_type": "code",
   "execution_count": 11,
   "id": "110dcf15",
   "metadata": {},
   "outputs": [
    {
     "data": {
      "image/png": "[encoded data removed]",
      "text/plain": [
       "<Figure size 432x288 with 1 Axes>"
      ]
     },
     "metadata": {
      "needs_background": "light"
     },
     "output_type": "display_data"
    }
   ],
   "source": [
    "ct = pd.crosstab(df['tenure'], df['Churn'])\n",
    "ct['Churn %'] = round(100*ct['Yes']/(ct['No']+ct['Yes']), 2)\n",
    "\n",
    "sns.regplot(x='tenure', y='Churn %', data=ct.reset_index())\n",
    "plt.title('Churn % vs Tenure')\n",
    "plt.xlabel('Tenure')\n",
    "plt.show()"
   ]
  },
  {
   "cell_type": "code",
   "execution_count": 12,
   "id": "302142e8",
   "metadata": {},
   "outputs": [
    {
     "data": {
      "image/png": "[encoded data removed]",
      "text/plain": [
       "<Figure size 1080x360 with 2 Axes>"
      ]
     },
     "metadata": {
      "needs_background": "light"
     },
     "output_type": "display_data"
    }
   ],
   "source": [
    "fig, ax = plt.subplots(1, 2, figsize=(15, 5))\n",
    "i = 0\n",
    "for col in ['MonthlyCharges', 'TotalCharges']:\n",
    "    sns.histplot(ax=ax[i], data=df, x=col, hue='Churn', bins=25, palette='pastel')\n",
    "    \n",
    "    i += 1\n",
    "plt.suptitle('Layered Histogram for MonthlyCharges and TotalCharges')\n",
    "plt.show()"
   ]
  },
  {
   "cell_type": "code",
   "execution_count": 13,
   "id": "6dd98310",
   "metadata": {},
   "outputs": [
    {
     "data": {
      "text/plain": [
       "customerID          0\n",
       "gender              0\n",
       "SeniorCitizen       0\n",
       "Partner             0\n",
       "Dependents          0\n",
       "tenure              0\n",
       "PhoneService        0\n",
       "MultipleLines       0\n",
       "InternetService     0\n",
       "OnlineSecurity      0\n",
       "OnlineBackup        0\n",
       "DeviceProtection    0\n",
       "TechSupport         0\n",
       "StreamingTV         0\n",
       "StreamingMovies     0\n",
       "Contract            0\n",
       "PaperlessBilling    0\n",
       "PaymentMethod       0\n",
       "MonthlyCharges      0\n",
       "TotalCharges        0\n",
       "Churn               0\n",
       "dtype: int64"
      ]
     },
     "execution_count": 13,
     "metadata": {},
     "output_type": "execute_result"
    }
   ],
   "source": [
    "# fill missing for total charges\n",
    "df['TotalCharges'].fillna(df['TotalCharges'].mean(), inplace=True)\n",
    "df.isnull().sum()"
   ]
  },
  {
   "cell_type": "markdown",
   "id": "05d6dbfa",
   "metadata": {},
   "source": [
    "## Categorical Features"
   ]
  },
  {
   "cell_type": "code",
   "execution_count": 14,
   "id": "bbd2cf70",
   "metadata": {},
   "outputs": [
    {
     "name": "stdout",
     "output_type": "stream",
     "text": [
      "<class 'pandas.core.frame.DataFrame'>\n",
      "RangeIndex: 7043 entries, 0 to 7042\n",
      "Data columns (total 18 columns):\n",
      " #   Column            Non-Null Count  Dtype \n",
      "---  ------            --------------  ----- \n",
      " 0   customerID        7043 non-null   object\n",
      " 1   gender            7043 non-null   object\n",
      " 2   SeniorCitizen     7043 non-null   int64 \n",
      " 3   Partner           7043 non-null   object\n",
      " 4   Dependents        7043 non-null   object\n",
      " 5   PhoneService      7043 non-null   object\n",
      " 6   MultipleLines     7043 non-null   object\n",
      " 7   InternetService   7043 non-null   object\n",
      " 8   OnlineSecurity    7043 non-null   object\n",
      " 9   OnlineBackup      7043 non-null   object\n",
      " 10  DeviceProtection  7043 non-null   object\n",
      " 11  TechSupport       7043 non-null   object\n",
      " 12  StreamingTV       7043 non-null   object\n",
      " 13  StreamingMovies   7043 non-null   object\n",
      " 14  Contract          7043 non-null   object\n",
      " 15  PaperlessBilling  7043 non-null   object\n",
      " 16  PaymentMethod     7043 non-null   object\n",
      " 17  Churn             7043 non-null   object\n",
      "dtypes: int64(1), object(17)\n",
      "memory usage: 990.5+ KB\n"
     ]
    }
   ],
   "source": [
    "df.drop(num_features, axis=1).info()"
   ]
  },
  {
   "cell_type": "code",
   "execution_count": 15,
   "id": "84cd06a6",
   "metadata": {},
   "outputs": [],
   "source": [
    "df['SeniorCitizen'] = np.where(df['SeniorCitizen']==0, False, True)\n",
    "\n",
    "binary = ['Partner', 'Dependents', 'PhoneService', 'PaperlessBilling']\n",
    "df[binary] = np.where(df[binary]=='Yes', True, False)\n",
    "\n",
    "df['MultipleLines'] = df['MultipleLines'].replace('Yes', 'Multiple Lines').replace('No', 'Single Line')\n",
    "df['InternetService'] = df['InternetService'].replace('No', 'No internet service')\n",
    "df['OnlineSecurity'] = df['OnlineSecurity'].replace('Yes', 'Online Security').replace('No', 'No Online Security')\n",
    "df['OnlineBackup'] = df['OnlineBackup'].replace('Yes', 'Online Backup').replace('No', 'No Online Backup')\n",
    "df['DeviceProtection'] = df['DeviceProtection'].replace('Yes', 'Device Protection').replace('No', 'No Device Protection')\n",
    "df['TechSupport'] = df['TechSupport'].replace('Yes', 'Tech Support').replace('No', 'No Tech Support')\n",
    "df['StreamingTV'] = df['StreamingTV'].replace('Yes', 'Streaming TV').replace('No', 'Not Streaming TV')\n",
    "df['StreamingMovies'] = df['StreamingMovies'].replace('Yes', 'Streaming Movies').replace('No', 'Not Streaming Movies')"
   ]
  },
  {
   "cell_type": "markdown",
   "id": "9fae7eb5",
   "metadata": {},
   "source": [
    "### Demographics"
   ]
  },
  {
   "cell_type": "code",
   "execution_count": 16,
   "id": "6a3ee9f4",
   "metadata": {},
   "outputs": [
    {
     "data": {
      "image/png": "[encoded data removed]",
      "text/plain": [
       "<Figure size 1440x360 with 4 Axes>"
      ]
     },
     "metadata": {
      "needs_background": "light"
     },
     "output_type": "display_data"
    }
   ],
   "source": [
    "demographics = ['gender', 'SeniorCitizen', 'Partner', 'Dependents']\n",
    "\n",
    "fig, ax = plt.subplots(1, 4, figsize=(20, 5))\n",
    "i = 0\n",
    "for col in demographics:\n",
    "    sns.pointplot(ax=ax[i], x=col, y=np.where(df['Churn']=='No', 0, 1), data=df)\n",
    "    i += 1\n",
    "\n",
    "plt.suptitle('Point Plots - Demographics')\n",
    "plt.show()"
   ]
  },
  {
   "cell_type": "markdown",
   "id": "5b9d1f13",
   "metadata": {},
   "source": [
    "### Service Options"
   ]
  },
  {
   "cell_type": "code",
   "execution_count": 17,
   "id": "0c755ce0",
   "metadata": {},
   "outputs": [
    {
     "data": {
      "text/html": [
       "<div>\n",
       "<style scoped>\n",
       "    .dataframe tbody tr th:only-of-type {\n",
       "        vertical-align: middle;\n",
       "    }\n",
       "\n",
       "    .dataframe tbody tr th {\n",
       "        vertical-align: top;\n",
       "    }\n",
       "\n",
       "    .dataframe thead th {\n",
       "        text-align: right;\n",
       "    }\n",
       "</style>\n",
       "<table border=\"1\" class=\"dataframe\">\n",
       "  <thead>\n",
       "    <tr style=\"text-align: right;\">\n",
       "      <th></th>\n",
       "      <th>PhoneService</th>\n",
       "      <th>MultipleLines</th>\n",
       "      <th>InternetService</th>\n",
       "      <th>OnlineSecurity</th>\n",
       "      <th>OnlineBackup</th>\n",
       "      <th>DeviceProtection</th>\n",
       "      <th>TechSupport</th>\n",
       "      <th>StreamingTV</th>\n",
       "      <th>StreamingMovies</th>\n",
       "      <th>Churn</th>\n",
       "    </tr>\n",
       "  </thead>\n",
       "  <tbody>\n",
       "    <tr>\n",
       "      <th>0</th>\n",
       "      <td>False</td>\n",
       "      <td>No phone service</td>\n",
       "      <td>DSL</td>\n",
       "      <td>No Online Security</td>\n",
       "      <td>Online Backup</td>\n",
       "      <td>No Device Protection</td>\n",
       "      <td>No Tech Support</td>\n",
       "      <td>Not Streaming TV</td>\n",
       "      <td>Not Streaming Movies</td>\n",
       "      <td>No</td>\n",
       "    </tr>\n",
       "    <tr>\n",
       "      <th>1</th>\n",
       "      <td>True</td>\n",
       "      <td>Single Line</td>\n",
       "      <td>DSL</td>\n",
       "      <td>Online Security</td>\n",
       "      <td>No Online Backup</td>\n",
       "      <td>Device Protection</td>\n",
       "      <td>No Tech Support</td>\n",
       "      <td>Not Streaming TV</td>\n",
       "      <td>Not Streaming Movies</td>\n",
       "      <td>No</td>\n",
       "    </tr>\n",
       "    <tr>\n",
       "      <th>2</th>\n",
       "      <td>True</td>\n",
       "      <td>Single Line</td>\n",
       "      <td>DSL</td>\n",
       "      <td>Online Security</td>\n",
       "      <td>Online Backup</td>\n",
       "      <td>No Device Protection</td>\n",
       "      <td>No Tech Support</td>\n",
       "      <td>Not Streaming TV</td>\n",
       "      <td>Not Streaming Movies</td>\n",
       "      <td>Yes</td>\n",
       "    </tr>\n",
       "    <tr>\n",
       "      <th>3</th>\n",
       "      <td>False</td>\n",
       "      <td>No phone service</td>\n",
       "      <td>DSL</td>\n",
       "      <td>Online Security</td>\n",
       "      <td>No Online Backup</td>\n",
       "      <td>Device Protection</td>\n",
       "      <td>Tech Support</td>\n",
       "      <td>Not Streaming TV</td>\n",
       "      <td>Not Streaming Movies</td>\n",
       "      <td>No</td>\n",
       "    </tr>\n",
       "    <tr>\n",
       "      <th>4</th>\n",
       "      <td>True</td>\n",
       "      <td>Single Line</td>\n",
       "      <td>Fiber optic</td>\n",
       "      <td>No Online Security</td>\n",
       "      <td>No Online Backup</td>\n",
       "      <td>No Device Protection</td>\n",
       "      <td>No Tech Support</td>\n",
       "      <td>Not Streaming TV</td>\n",
       "      <td>Not Streaming Movies</td>\n",
       "      <td>Yes</td>\n",
       "    </tr>\n",
       "  </tbody>\n",
       "</table>\n",
       "</div>"
      ],
      "text/plain": [
       "   PhoneService     MultipleLines InternetService      OnlineSecurity  \\\n",
       "0         False  No phone service             DSL  No Online Security   \n",
       "1          True       Single Line             DSL     Online Security   \n",
       "2          True       Single Line             DSL     Online Security   \n",
       "3         False  No phone service             DSL     Online Security   \n",
       "4          True       Single Line     Fiber optic  No Online Security   \n",
       "\n",
       "       OnlineBackup      DeviceProtection      TechSupport       StreamingTV  \\\n",
       "0     Online Backup  No Device Protection  No Tech Support  Not Streaming TV   \n",
       "1  No Online Backup     Device Protection  No Tech Support  Not Streaming TV   \n",
       "2     Online Backup  No Device Protection  No Tech Support  Not Streaming TV   \n",
       "3  No Online Backup     Device Protection     Tech Support  Not Streaming TV   \n",
       "4  No Online Backup  No Device Protection  No Tech Support  Not Streaming TV   \n",
       "\n",
       "        StreamingMovies Churn  \n",
       "0  Not Streaming Movies    No  \n",
       "1  Not Streaming Movies    No  \n",
       "2  Not Streaming Movies   Yes  \n",
       "3  Not Streaming Movies    No  \n",
       "4  Not Streaming Movies   Yes  "
      ]
     },
     "execution_count": 17,
     "metadata": {},
     "output_type": "execute_result"
    }
   ],
   "source": [
    "service = ['PhoneService', 'MultipleLines', 'InternetService', 'OnlineSecurity', 'OnlineBackup', 'DeviceProtection',\n",
    "   'TechSupport', 'StreamingTV', 'StreamingMovies']\n",
    "df[service + ['Churn']].head()"
   ]
  },
  {
   "cell_type": "code",
   "execution_count": 18,
   "id": "c1f02230",
   "metadata": {},
   "outputs": [],
   "source": [
    "# define contingency table and calculate % churn\n",
    "def ct(df, column):\n",
    "    ct = pd.crosstab(df[column], df['Churn'])\n",
    "    ct['Churn %'] = round(100*ct['Yes']/(ct['No']+ct['Yes']), 2)\n",
    "    return ct"
   ]
  },
  {
   "cell_type": "code",
   "execution_count": 19,
   "id": "7efe946c",
   "metadata": {},
   "outputs": [
    {
     "data": {
      "image/png": "[encoded data removed]",
      "text/plain": [
       "<Figure size 1440x360 with 4 Axes>"
      ]
     },
     "metadata": {
      "needs_background": "light"
     },
     "output_type": "display_data"
    },
    {
     "data": {
      "image/png": "[encoded data removed]",
      "text/plain": [
       "<Figure size 1440x360 with 4 Axes>"
      ]
     },
     "metadata": {
      "needs_background": "light"
     },
     "output_type": "display_data"
    }
   ],
   "source": [
    "fig, ax = plt.subplots(1, 4, figsize=(20, 5))\n",
    "i = 0\n",
    "for col in service[1:5]:\n",
    "    sns.barplot(ax=ax[i], x=col, y='Churn %', data=ct(df, col).reset_index(), palette='pastel')\n",
    "    ax[i].set_xticklabels(ax[i].get_xticklabels(),rotation=15)\n",
    "    i +=1\n",
    "plt.show()\n",
    "\n",
    "fig, ax = plt.subplots(1, 4, figsize=(20, 5))\n",
    "i = 0\n",
    "for col in service[5:]:\n",
    "    sns.barplot(ax=ax[i], x=col, y='Churn %', data=ct(df, col).reset_index(), palette='pastel')\n",
    "    ax[i].set_xticklabels(ax[i].get_xticklabels(),rotation=15)\n",
    "    i +=1\n",
    "plt.show()"
   ]
  },
  {
   "cell_type": "code",
   "execution_count": 20,
   "id": "261689ba",
   "metadata": {},
   "outputs": [
    {
     "data": {
      "text/html": [
       "<div>\n",
       "<style scoped>\n",
       "    .dataframe tbody tr th:only-of-type {\n",
       "        vertical-align: middle;\n",
       "    }\n",
       "\n",
       "    .dataframe tbody tr th {\n",
       "        vertical-align: top;\n",
       "    }\n",
       "\n",
       "    .dataframe thead th {\n",
       "        text-align: right;\n",
       "    }\n",
       "</style>\n",
       "<table border=\"1\" class=\"dataframe\">\n",
       "  <thead>\n",
       "    <tr style=\"text-align: right;\">\n",
       "      <th></th>\n",
       "      <th>Churn</th>\n",
       "      <th>No</th>\n",
       "      <th>Yes</th>\n",
       "      <th>Churn %</th>\n",
       "    </tr>\n",
       "    <tr>\n",
       "      <th>TechSupport</th>\n",
       "      <th>InternetService</th>\n",
       "      <th></th>\n",
       "      <th></th>\n",
       "      <th></th>\n",
       "    </tr>\n",
       "  </thead>\n",
       "  <tbody>\n",
       "    <tr>\n",
       "      <th rowspan=\"2\" valign=\"top\">No Tech Support</th>\n",
       "      <th>DSL</th>\n",
       "      <td>898</td>\n",
       "      <td>345</td>\n",
       "      <td>27.76</td>\n",
       "    </tr>\n",
       "    <tr>\n",
       "      <th>Fiber optic</th>\n",
       "      <td>1129</td>\n",
       "      <td>1101</td>\n",
       "      <td>49.37</td>\n",
       "    </tr>\n",
       "    <tr>\n",
       "      <th>No internet service</th>\n",
       "      <th>No internet service</th>\n",
       "      <td>1413</td>\n",
       "      <td>113</td>\n",
       "      <td>7.40</td>\n",
       "    </tr>\n",
       "    <tr>\n",
       "      <th rowspan=\"2\" valign=\"top\">Tech Support</th>\n",
       "      <th>DSL</th>\n",
       "      <td>1064</td>\n",
       "      <td>114</td>\n",
       "      <td>9.68</td>\n",
       "    </tr>\n",
       "    <tr>\n",
       "      <th>Fiber optic</th>\n",
       "      <td>670</td>\n",
       "      <td>196</td>\n",
       "      <td>22.63</td>\n",
       "    </tr>\n",
       "  </tbody>\n",
       "</table>\n",
       "</div>"
      ],
      "text/plain": [
       "Churn                                      No   Yes  Churn %\n",
       "TechSupport         InternetService                         \n",
       "No Tech Support     DSL                   898   345    27.76\n",
       "                    Fiber optic          1129  1101    49.37\n",
       "No internet service No internet service  1413   113     7.40\n",
       "Tech Support        DSL                  1064   114     9.68\n",
       "                    Fiber optic           670   196    22.63"
      ]
     },
     "execution_count": 20,
     "metadata": {},
     "output_type": "execute_result"
    }
   ],
   "source": [
    "ct_stratified = pd.crosstab(index=[df['TechSupport'], df['InternetService']], columns=df['Churn'])\n",
    "ct_stratified['Churn %'] = round(100*ct_stratified['Yes']/(ct_stratified['No']+ct_stratified['Yes']), 2)\n",
    "ct_stratified"
   ]
  },
  {
   "cell_type": "code",
   "execution_count": 21,
   "id": "950b951d",
   "metadata": {},
   "outputs": [
    {
     "data": {
      "text/html": [
       "<div>\n",
       "<style scoped>\n",
       "    .dataframe tbody tr th:only-of-type {\n",
       "        vertical-align: middle;\n",
       "    }\n",
       "\n",
       "    .dataframe tbody tr th {\n",
       "        vertical-align: top;\n",
       "    }\n",
       "\n",
       "    .dataframe thead th {\n",
       "        text-align: right;\n",
       "    }\n",
       "</style>\n",
       "<table border=\"1\" class=\"dataframe\">\n",
       "  <thead>\n",
       "    <tr style=\"text-align: right;\">\n",
       "      <th></th>\n",
       "      <th>Churn</th>\n",
       "      <th>No</th>\n",
       "      <th>Yes</th>\n",
       "      <th>Churn %</th>\n",
       "    </tr>\n",
       "    <tr>\n",
       "      <th>StreamingTV</th>\n",
       "      <th>StreamingMovies</th>\n",
       "      <th></th>\n",
       "      <th></th>\n",
       "      <th></th>\n",
       "    </tr>\n",
       "  </thead>\n",
       "  <tbody>\n",
       "    <tr>\n",
       "      <th>No internet service</th>\n",
       "      <th>No internet service</th>\n",
       "      <td>1413</td>\n",
       "      <td>113</td>\n",
       "      <td>7.40</td>\n",
       "    </tr>\n",
       "    <tr>\n",
       "      <th rowspan=\"2\" valign=\"top\">Not Streaming TV</th>\n",
       "      <th>Not Streaming Movies</th>\n",
       "      <td>1323</td>\n",
       "      <td>695</td>\n",
       "      <td>34.44</td>\n",
       "    </tr>\n",
       "    <tr>\n",
       "      <th>Streaming Movies</th>\n",
       "      <td>545</td>\n",
       "      <td>247</td>\n",
       "      <td>31.19</td>\n",
       "    </tr>\n",
       "    <tr>\n",
       "      <th rowspan=\"2\" valign=\"top\">Streaming TV</th>\n",
       "      <th>Not Streaming Movies</th>\n",
       "      <td>524</td>\n",
       "      <td>243</td>\n",
       "      <td>31.68</td>\n",
       "    </tr>\n",
       "    <tr>\n",
       "      <th>Streaming Movies</th>\n",
       "      <td>1369</td>\n",
       "      <td>571</td>\n",
       "      <td>29.43</td>\n",
       "    </tr>\n",
       "  </tbody>\n",
       "</table>\n",
       "</div>"
      ],
      "text/plain": [
       "Churn                                       No  Yes  Churn %\n",
       "StreamingTV         StreamingMovies                         \n",
       "No internet service No internet service   1413  113     7.40\n",
       "Not Streaming TV    Not Streaming Movies  1323  695    34.44\n",
       "                    Streaming Movies       545  247    31.19\n",
       "Streaming TV        Not Streaming Movies   524  243    31.68\n",
       "                    Streaming Movies      1369  571    29.43"
      ]
     },
     "execution_count": 21,
     "metadata": {},
     "output_type": "execute_result"
    }
   ],
   "source": [
    "ct_stratified = pd.crosstab(index=[df['StreamingTV'], df['StreamingMovies']], columns=df['Churn'])\n",
    "ct_stratified['Churn %'] = round(100*ct_stratified['Yes']/(ct_stratified['No']+ct_stratified['Yes']), 2)\n",
    "ct_stratified"
   ]
  },
  {
   "cell_type": "code",
   "execution_count": 22,
   "id": "e4446f53",
   "metadata": {},
   "outputs": [
    {
     "data": {
      "text/html": [
       "<div>\n",
       "<style scoped>\n",
       "    .dataframe tbody tr th:only-of-type {\n",
       "        vertical-align: middle;\n",
       "    }\n",
       "\n",
       "    .dataframe tbody tr th {\n",
       "        vertical-align: top;\n",
       "    }\n",
       "\n",
       "    .dataframe thead th {\n",
       "        text-align: right;\n",
       "    }\n",
       "</style>\n",
       "<table border=\"1\" class=\"dataframe\">\n",
       "  <thead>\n",
       "    <tr style=\"text-align: right;\">\n",
       "      <th></th>\n",
       "      <th>Churn</th>\n",
       "      <th>No</th>\n",
       "      <th>Yes</th>\n",
       "      <th>Churn %</th>\n",
       "    </tr>\n",
       "    <tr>\n",
       "      <th>OnlineSecurity</th>\n",
       "      <th>OnlineBackup</th>\n",
       "      <th></th>\n",
       "      <th></th>\n",
       "      <th></th>\n",
       "    </tr>\n",
       "  </thead>\n",
       "  <tbody>\n",
       "    <tr>\n",
       "      <th rowspan=\"2\" valign=\"top\">No Online Security</th>\n",
       "      <th>No Online Backup</th>\n",
       "      <td>1138</td>\n",
       "      <td>1057</td>\n",
       "      <td>48.15</td>\n",
       "    </tr>\n",
       "    <tr>\n",
       "      <th>Online Backup</th>\n",
       "      <td>899</td>\n",
       "      <td>404</td>\n",
       "      <td>31.01</td>\n",
       "    </tr>\n",
       "    <tr>\n",
       "      <th>No internet service</th>\n",
       "      <th>No internet service</th>\n",
       "      <td>1413</td>\n",
       "      <td>113</td>\n",
       "      <td>7.40</td>\n",
       "    </tr>\n",
       "    <tr>\n",
       "      <th rowspan=\"2\" valign=\"top\">Online Security</th>\n",
       "      <th>No Online Backup</th>\n",
       "      <td>717</td>\n",
       "      <td>176</td>\n",
       "      <td>19.71</td>\n",
       "    </tr>\n",
       "    <tr>\n",
       "      <th>Online Backup</th>\n",
       "      <td>1007</td>\n",
       "      <td>119</td>\n",
       "      <td>10.57</td>\n",
       "    </tr>\n",
       "  </tbody>\n",
       "</table>\n",
       "</div>"
      ],
      "text/plain": [
       "Churn                                      No   Yes  Churn %\n",
       "OnlineSecurity      OnlineBackup                            \n",
       "No Online Security  No Online Backup     1138  1057    48.15\n",
       "                    Online Backup         899   404    31.01\n",
       "No internet service No internet service  1413   113     7.40\n",
       "Online Security     No Online Backup      717   176    19.71\n",
       "                    Online Backup        1007   119    10.57"
      ]
     },
     "execution_count": 22,
     "metadata": {},
     "output_type": "execute_result"
    }
   ],
   "source": [
    "ct_stratified = pd.crosstab(index=[df['OnlineSecurity'], df['OnlineBackup']], columns=df['Churn'])\n",
    "ct_stratified['Churn %'] = round(100*ct_stratified['Yes']/(ct_stratified['No']+ct_stratified['Yes']), 2)\n",
    "ct_stratified"
   ]
  },
  {
   "cell_type": "markdown",
   "id": "7ae61a43",
   "metadata": {},
   "source": [
    "### Account Features"
   ]
  },
  {
   "cell_type": "code",
   "execution_count": 23,
   "id": "00013523",
   "metadata": {},
   "outputs": [
    {
     "data": {
      "text/html": [
       "<div>\n",
       "<style scoped>\n",
       "    .dataframe tbody tr th:only-of-type {\n",
       "        vertical-align: middle;\n",
       "    }\n",
       "\n",
       "    .dataframe tbody tr th {\n",
       "        vertical-align: top;\n",
       "    }\n",
       "\n",
       "    .dataframe thead th {\n",
       "        text-align: right;\n",
       "    }\n",
       "</style>\n",
       "<table border=\"1\" class=\"dataframe\">\n",
       "  <thead>\n",
       "    <tr style=\"text-align: right;\">\n",
       "      <th></th>\n",
       "      <th>Contract</th>\n",
       "      <th>PaperlessBilling</th>\n",
       "      <th>PaymentMethod</th>\n",
       "      <th>Churn</th>\n",
       "    </tr>\n",
       "  </thead>\n",
       "  <tbody>\n",
       "    <tr>\n",
       "      <th>0</th>\n",
       "      <td>Month-to-month</td>\n",
       "      <td>True</td>\n",
       "      <td>Electronic check</td>\n",
       "      <td>No</td>\n",
       "    </tr>\n",
       "    <tr>\n",
       "      <th>1</th>\n",
       "      <td>One year</td>\n",
       "      <td>False</td>\n",
       "      <td>Mailed check</td>\n",
       "      <td>No</td>\n",
       "    </tr>\n",
       "    <tr>\n",
       "      <th>2</th>\n",
       "      <td>Month-to-month</td>\n",
       "      <td>True</td>\n",
       "      <td>Mailed check</td>\n",
       "      <td>Yes</td>\n",
       "    </tr>\n",
       "    <tr>\n",
       "      <th>3</th>\n",
       "      <td>One year</td>\n",
       "      <td>False</td>\n",
       "      <td>Bank transfer (automatic)</td>\n",
       "      <td>No</td>\n",
       "    </tr>\n",
       "    <tr>\n",
       "      <th>4</th>\n",
       "      <td>Month-to-month</td>\n",
       "      <td>True</td>\n",
       "      <td>Electronic check</td>\n",
       "      <td>Yes</td>\n",
       "    </tr>\n",
       "  </tbody>\n",
       "</table>\n",
       "</div>"
      ],
      "text/plain": [
       "         Contract  PaperlessBilling              PaymentMethod Churn\n",
       "0  Month-to-month              True           Electronic check    No\n",
       "1        One year             False               Mailed check    No\n",
       "2  Month-to-month              True               Mailed check   Yes\n",
       "3        One year             False  Bank transfer (automatic)    No\n",
       "4  Month-to-month              True           Electronic check   Yes"
      ]
     },
     "execution_count": 23,
     "metadata": {},
     "output_type": "execute_result"
    }
   ],
   "source": [
    "account = ['Contract', 'PaperlessBilling', 'PaymentMethod']\n",
    "df[account + ['Churn']].head()"
   ]
  },
  {
   "cell_type": "code",
   "execution_count": 24,
   "id": "33b3a117",
   "metadata": {},
   "outputs": [
    {
     "data": {
      "image/png": "[encoded data removed]",
      "text/plain": [
       "<Figure size 1440x360 with 3 Axes>"
      ]
     },
     "metadata": {
      "needs_background": "light"
     },
     "output_type": "display_data"
    }
   ],
   "source": [
    "fig, ax = plt.subplots(1, 3, figsize=(20, 5))\n",
    "\n",
    "i = 0\n",
    "for col in account:\n",
    "    sns.barplot(ax=ax[i], x=col, y='Churn %', data=ct(df, col).reset_index(), palette='pastel')\n",
    "    ax[i].set_xticklabels(ax[i].get_xticklabels(),rotation=15)\n",
    "    i += 1"
   ]
  },
  {
   "cell_type": "code",
   "execution_count": 25,
   "id": "ea2357c4",
   "metadata": {},
   "outputs": [
    {
     "data": {
      "text/html": [
       "<div>\n",
       "<style scoped>\n",
       "    .dataframe tbody tr th:only-of-type {\n",
       "        vertical-align: middle;\n",
       "    }\n",
       "\n",
       "    .dataframe tbody tr th {\n",
       "        vertical-align: top;\n",
       "    }\n",
       "\n",
       "    .dataframe thead th {\n",
       "        text-align: right;\n",
       "    }\n",
       "</style>\n",
       "<table border=\"1\" class=\"dataframe\">\n",
       "  <thead>\n",
       "    <tr style=\"text-align: right;\">\n",
       "      <th></th>\n",
       "      <th>Churn</th>\n",
       "      <th>No</th>\n",
       "      <th>Yes</th>\n",
       "      <th>Churn %</th>\n",
       "    </tr>\n",
       "    <tr>\n",
       "      <th>PaperlessBilling</th>\n",
       "      <th>PaymentMethod</th>\n",
       "      <th></th>\n",
       "      <th></th>\n",
       "      <th></th>\n",
       "    </tr>\n",
       "  </thead>\n",
       "  <tbody>\n",
       "    <tr>\n",
       "      <th rowspan=\"4\" valign=\"top\">False</th>\n",
       "      <th>Bank transfer (automatic)</th>\n",
       "      <td>581</td>\n",
       "      <td>72</td>\n",
       "      <td>11.03</td>\n",
       "    </tr>\n",
       "    <tr>\n",
       "      <th>Credit card (automatic)</th>\n",
       "      <td>576</td>\n",
       "      <td>64</td>\n",
       "      <td>10.00</td>\n",
       "    </tr>\n",
       "    <tr>\n",
       "      <th>Electronic check</th>\n",
       "      <td>419</td>\n",
       "      <td>204</td>\n",
       "      <td>32.74</td>\n",
       "    </tr>\n",
       "    <tr>\n",
       "      <th>Mailed check</th>\n",
       "      <td>827</td>\n",
       "      <td>129</td>\n",
       "      <td>13.49</td>\n",
       "    </tr>\n",
       "    <tr>\n",
       "      <th rowspan=\"4\" valign=\"top\">True</th>\n",
       "      <th>Bank transfer (automatic)</th>\n",
       "      <td>705</td>\n",
       "      <td>186</td>\n",
       "      <td>20.88</td>\n",
       "    </tr>\n",
       "    <tr>\n",
       "      <th>Credit card (automatic)</th>\n",
       "      <td>714</td>\n",
       "      <td>168</td>\n",
       "      <td>19.05</td>\n",
       "    </tr>\n",
       "    <tr>\n",
       "      <th>Electronic check</th>\n",
       "      <td>875</td>\n",
       "      <td>867</td>\n",
       "      <td>49.77</td>\n",
       "    </tr>\n",
       "    <tr>\n",
       "      <th>Mailed check</th>\n",
       "      <td>477</td>\n",
       "      <td>179</td>\n",
       "      <td>27.29</td>\n",
       "    </tr>\n",
       "  </tbody>\n",
       "</table>\n",
       "</div>"
      ],
      "text/plain": [
       "Churn                                        No  Yes  Churn %\n",
       "PaperlessBilling PaymentMethod                               \n",
       "False            Bank transfer (automatic)  581   72    11.03\n",
       "                 Credit card (automatic)    576   64    10.00\n",
       "                 Electronic check           419  204    32.74\n",
       "                 Mailed check               827  129    13.49\n",
       "True             Bank transfer (automatic)  705  186    20.88\n",
       "                 Credit card (automatic)    714  168    19.05\n",
       "                 Electronic check           875  867    49.77\n",
       "                 Mailed check               477  179    27.29"
      ]
     },
     "execution_count": 25,
     "metadata": {},
     "output_type": "execute_result"
    }
   ],
   "source": [
    "ct_stratified = pd.crosstab(index=[df['PaperlessBilling'], df['PaymentMethod']], columns=df['Churn'])\n",
    "ct_stratified['Churn %'] = round(100*ct_stratified['Yes']/(ct_stratified['No']+ct_stratified['Yes']), 2)\n",
    "ct_stratified"
   ]
  },
  {
   "cell_type": "code",
   "execution_count": 26,
   "id": "766b7bb3",
   "metadata": {},
   "outputs": [
    {
     "data": {
      "text/html": [
       "<div>\n",
       "<style scoped>\n",
       "    .dataframe tbody tr th:only-of-type {\n",
       "        vertical-align: middle;\n",
       "    }\n",
       "\n",
       "    .dataframe tbody tr th {\n",
       "        vertical-align: top;\n",
       "    }\n",
       "\n",
       "    .dataframe thead th {\n",
       "        text-align: right;\n",
       "    }\n",
       "</style>\n",
       "<table border=\"1\" class=\"dataframe\">\n",
       "  <thead>\n",
       "    <tr style=\"text-align: right;\">\n",
       "      <th></th>\n",
       "      <th>Churn</th>\n",
       "      <th>No</th>\n",
       "      <th>Yes</th>\n",
       "      <th>Churn %</th>\n",
       "    </tr>\n",
       "    <tr>\n",
       "      <th>Contract</th>\n",
       "      <th>PaymentMethod</th>\n",
       "      <th></th>\n",
       "      <th></th>\n",
       "      <th></th>\n",
       "    </tr>\n",
       "  </thead>\n",
       "  <tbody>\n",
       "    <tr>\n",
       "      <th rowspan=\"4\" valign=\"top\">Month-to-month</th>\n",
       "      <th>Bank transfer (automatic)</th>\n",
       "      <td>388</td>\n",
       "      <td>201</td>\n",
       "      <td>34.13</td>\n",
       "    </tr>\n",
       "    <tr>\n",
       "      <th>Credit card (automatic)</th>\n",
       "      <td>365</td>\n",
       "      <td>178</td>\n",
       "      <td>32.78</td>\n",
       "    </tr>\n",
       "    <tr>\n",
       "      <th>Electronic check</th>\n",
       "      <td>856</td>\n",
       "      <td>994</td>\n",
       "      <td>53.73</td>\n",
       "    </tr>\n",
       "    <tr>\n",
       "      <th>Mailed check</th>\n",
       "      <td>611</td>\n",
       "      <td>282</td>\n",
       "      <td>31.58</td>\n",
       "    </tr>\n",
       "    <tr>\n",
       "      <th rowspan=\"4\" valign=\"top\">One year</th>\n",
       "      <th>Bank transfer (automatic)</th>\n",
       "      <td>353</td>\n",
       "      <td>38</td>\n",
       "      <td>9.72</td>\n",
       "    </tr>\n",
       "    <tr>\n",
       "      <th>Credit card (automatic)</th>\n",
       "      <td>357</td>\n",
       "      <td>41</td>\n",
       "      <td>10.30</td>\n",
       "    </tr>\n",
       "    <tr>\n",
       "      <th>Electronic check</th>\n",
       "      <td>283</td>\n",
       "      <td>64</td>\n",
       "      <td>18.44</td>\n",
       "    </tr>\n",
       "    <tr>\n",
       "      <th>Mailed check</th>\n",
       "      <td>314</td>\n",
       "      <td>23</td>\n",
       "      <td>6.82</td>\n",
       "    </tr>\n",
       "    <tr>\n",
       "      <th rowspan=\"4\" valign=\"top\">Two year</th>\n",
       "      <th>Bank transfer (automatic)</th>\n",
       "      <td>545</td>\n",
       "      <td>19</td>\n",
       "      <td>3.37</td>\n",
       "    </tr>\n",
       "    <tr>\n",
       "      <th>Credit card (automatic)</th>\n",
       "      <td>568</td>\n",
       "      <td>13</td>\n",
       "      <td>2.24</td>\n",
       "    </tr>\n",
       "    <tr>\n",
       "      <th>Electronic check</th>\n",
       "      <td>155</td>\n",
       "      <td>13</td>\n",
       "      <td>7.74</td>\n",
       "    </tr>\n",
       "    <tr>\n",
       "      <th>Mailed check</th>\n",
       "      <td>379</td>\n",
       "      <td>3</td>\n",
       "      <td>0.79</td>\n",
       "    </tr>\n",
       "  </tbody>\n",
       "</table>\n",
       "</div>"
      ],
      "text/plain": [
       "Churn                                      No  Yes  Churn %\n",
       "Contract       PaymentMethod                               \n",
       "Month-to-month Bank transfer (automatic)  388  201    34.13\n",
       "               Credit card (automatic)    365  178    32.78\n",
       "               Electronic check           856  994    53.73\n",
       "               Mailed check               611  282    31.58\n",
       "One year       Bank transfer (automatic)  353   38     9.72\n",
       "               Credit card (automatic)    357   41    10.30\n",
       "               Electronic check           283   64    18.44\n",
       "               Mailed check               314   23     6.82\n",
       "Two year       Bank transfer (automatic)  545   19     3.37\n",
       "               Credit card (automatic)    568   13     2.24\n",
       "               Electronic check           155   13     7.74\n",
       "               Mailed check               379    3     0.79"
      ]
     },
     "execution_count": 26,
     "metadata": {},
     "output_type": "execute_result"
    }
   ],
   "source": [
    "ct_stratified = pd.crosstab(index=[df['Contract'], df['PaymentMethod']], columns=df['Churn'])\n",
    "ct_stratified['Churn %'] = round(100*ct_stratified['Yes']/(ct_stratified['No']+ct_stratified['Yes']), 2)\n",
    "ct_stratified"
   ]
  },
  {
   "cell_type": "markdown",
   "id": "1d42fb67",
   "metadata": {},
   "source": [
    "## Dealing with the Imbalanced Target Variable"
   ]
  },
  {
   "cell_type": "code",
   "execution_count": 27,
   "id": "d605a0dc",
   "metadata": {},
   "outputs": [
    {
     "name": "stdout",
     "output_type": "stream",
     "text": [
      "Counter({'No': 5174, 'Yes': 3104})\n",
      "Counter({'No': 3880, 'Yes': 3104})\n"
     ]
    }
   ],
   "source": [
    "from imblearn.over_sampling import RandomOverSampler\n",
    "from imblearn.under_sampling import RandomUnderSampler\n",
    "from collections import Counter\n",
    "\n",
    "# combining random over sampling and random under sampling to fix imbalanced target variable\n",
    "X_df = df.drop('Churn', axis=1).copy()\n",
    "y_df = df['Churn'].values\n",
    "\n",
    "ros = RandomOverSampler(sampling_strategy=0.6)\n",
    "X_ros, y_ros = ros.fit_resample(X_df, y_df)\n",
    "print(Counter(y_ros))\n",
    "\n",
    "rus = RandomUnderSampler(sampling_strategy=0.8)\n",
    "X_co, y_co = rus.fit_resample(X_ros, y_ros)\n",
    "print(Counter(y_co))\n",
    "\n",
    "sampling_df = X_co.copy()\n",
    "sampling_df['Churn'] = y_co"
   ]
  },
  {
   "cell_type": "markdown",
   "id": "427f2520",
   "metadata": {},
   "source": [
    "## Data Cleaning"
   ]
  },
  {
   "cell_type": "code",
   "execution_count": 28,
   "id": "ca05aac0",
   "metadata": {},
   "outputs": [],
   "source": [
    "from sklearn import preprocessing"
   ]
  },
  {
   "cell_type": "code",
   "execution_count": 29,
   "id": "c30e432a",
   "metadata": {},
   "outputs": [],
   "source": [
    "X_df = sampling_df.iloc[:, 1:-1].copy()\n",
    "y = sampling_df.iloc[:, -1].values\n",
    "\n",
    "# encoding binary categorical variables:\n",
    "binary_col = ['gender', 'SeniorCitizen', 'Partner', 'Dependents', \n",
    "              'PhoneService', 'PaperlessBilling']\n",
    "\n",
    "for col in binary_col:\n",
    "    le = preprocessing.LabelEncoder()\n",
    "    X_df[col] = le.fit_transform(X_df[col])\n",
    "\n",
    "# one-hot-encoding for the remaining categorical variables:\n",
    "remaining_col = ['MultipleLines', 'InternetService', 'OnlineSecurity', 'OnlineBackup', 'DeviceProtection', \n",
    "                 'TechSupport', 'StreamingTV', 'StreamingMovies', 'Contract', 'PaymentMethod']\n",
    "\n",
    "X_df = pd.get_dummies(X_df, columns=remaining_col, drop_first=True)\n",
    "X = X_df.values\n",
    "\n",
    "# class encoding:\n",
    "le_class = preprocessing.LabelEncoder()\n",
    "y = le_class.fit_transform(y)"
   ]
  },
  {
   "cell_type": "markdown",
   "id": "2d8d9de7",
   "metadata": {},
   "source": [
    "## Train/Test Split"
   ]
  },
  {
   "cell_type": "code",
   "execution_count": 31,
   "id": "fec758ad",
   "metadata": {},
   "outputs": [],
   "source": [
    "from sklearn.model_selection import train_test_split\n",
    "from sklearn.preprocessing import StandardScaler\n",
    "\n",
    "# 60/40 train/test split:\n",
    "X_train, X_test, y_train, y_test = train_test_split(X, y, test_size=0.4, random_state=1)\n",
    "\n",
    "# 20/20 test/validation split:\n",
    "X_test, X_val, y_test, y_val = train_test_split(X_test, y_test, test_size=0.5, random_state=1)\n",
    "\n",
    "# scale features\n",
    "stdsc = StandardScaler()\n",
    "X_train_std = stdsc.fit_transform(X_train)\n",
    "X_test_std = stdsc.transform(X_test)\n",
    "X_val_std = stdsc.transform(X_val)\n",
    "\n",
    "X_train_std = pd.DataFrame(X_train_std)\n",
    "X_train_std.columns = X_df.columns"
   ]
  },
  {
   "cell_type": "code",
   "execution_count": 32,
   "id": "88983c1c",
   "metadata": {},
   "outputs": [],
   "source": [
    "X_train_std.to_csv('X_train.csv', index=False)\n",
    "pd.DataFrame(X_test_std).to_csv('X_test.csv', index=False)\n",
    "pd.DataFrame(X_val_std).to_csv('X_val.csv', index=False)\n",
    "\n",
    "pd.DataFrame(y_train).to_csv('y_train.csv', index=False)\n",
    "pd.DataFrame(y_test).to_csv('y_test.csv', index=False)\n",
    "pd.DataFrame(y_val).to_csv('y_val.csv', index=False)"
   ]
  },
  {
   "cell_type": "code",
   "execution_count": null,
   "id": "a27800c4",
   "metadata": {},
   "outputs": [],
   "source": []
  }
 ],
 "metadata": {
  "kernelspec": {
   "display_name": "Python 3",
   "language": "python",
   "name": "python3"
  },
  "language_info": {
   "codemirror_mode": {
    "name": "ipython",
    "version": 3
   },
   "file_extension": ".py",
   "mimetype": "text/x-python",
   "name": "python",
   "nbconvert_exporter": "python",
   "pygments_lexer": "ipython3",
   "version": "3.8.8"
  }
 },
 "nbformat": 4,
 "nbformat_minor": 5
}
