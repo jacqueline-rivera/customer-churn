{
 "cells": [
  {
   "cell_type": "code",
   "execution_count": 1,
   "id": "4947574d",
   "metadata": {},
   "outputs": [],
   "source": [
    "import pandas as pd\n",
    "import numpy as np\n",
    "import joblib\n",
    "from sklearn.model_selection import GridSearchCV"
   ]
  },
  {
   "cell_type": "code",
   "execution_count": 2,
   "id": "4dfaa521",
   "metadata": {},
   "outputs": [],
   "source": [
    "X_train = pd.read_csv('X_train.csv')\n",
    "y_train = pd.read_csv('y_train.csv')"
   ]
  },
  {
   "cell_type": "markdown",
   "id": "1b519e15",
   "metadata": {},
   "source": [
    "# Logistic Regression"
   ]
  },
  {
   "cell_type": "code",
   "execution_count": 3,
   "id": "91f3992d",
   "metadata": {},
   "outputs": [
    {
     "name": "stdout",
     "output_type": "stream",
     "text": [
      "Mean Test Scores: [0.74755263 0.75190371 0.75586711 0.75528018 0.75632574 0.75670737\n",
      " 0.75670737]\n"
     ]
    }
   ],
   "source": [
    "from sklearn.linear_model import LogisticRegression\n",
    "\n",
    "lr = LogisticRegression(random_state=1)\n",
    "\n",
    "parameters = {\n",
    "    'C': [0.001, 0.01, 0.1, 1, 10, 100, 1000]\n",
    "}\n",
    "\n",
    "lr_cv = GridSearchCV(estimator=lr, param_grid=parameters, scoring='f1', cv=5)\n",
    "lr_cv.fit(X_train, y_train.values.ravel())\n",
    "print('Mean Test Scores:', lr_cv.cv_results_['mean_test_score'])"
   ]
  },
  {
   "cell_type": "code",
   "execution_count": 5,
   "id": "9250454c",
   "metadata": {},
   "outputs": [
    {
     "data": {
      "text/plain": [
       "['LR.pkl']"
      ]
     },
     "execution_count": 5,
     "metadata": {},
     "output_type": "execute_result"
    }
   ],
   "source": [
    "joblib.dump(lr_cv.best_estimator_, 'LR.pkl')"
   ]
  },
  {
   "cell_type": "markdown",
   "id": "0add1cbb",
   "metadata": {},
   "source": [
    "# Random Forest"
   ]
  },
  {
   "cell_type": "code",
   "execution_count": 6,
   "id": "574ba686",
   "metadata": {},
   "outputs": [
    {
     "name": "stdout",
     "output_type": "stream",
     "text": [
      "Mean Test Scores: [0.69237474 0.73182731 0.72220465 0.73025216 0.73764485 0.69237474\n",
      " 0.73182731 0.72220465 0.73025216 0.73764485 0.72285302 0.73853663\n",
      " 0.75083702 0.74002338 0.73960907 0.73884146 0.74358443 0.74043022\n",
      " 0.74045931 0.7484626  0.73884146 0.74358443 0.74043022 0.74045931\n",
      " 0.7484626  0.73864298 0.74457589 0.75000468 0.75033819 0.75165126\n",
      " 0.75610266 0.768573   0.76952736 0.77074061 0.77324189 0.75610266\n",
      " 0.768573   0.76952736 0.77074061 0.77324189 0.74966906 0.76549025\n",
      " 0.77122256 0.77035971 0.77049728 0.75319294 0.78342263 0.78693052\n",
      " 0.79218129 0.79462157 0.75319294 0.78342263 0.78693052 0.79218129\n",
      " 0.79462157 0.75652386 0.7838905  0.79066051 0.79715337 0.79639746\n",
      " 0.76156544 0.77908816 0.78590722 0.78727252 0.78936589 0.76156544\n",
      " 0.77908816 0.78590722 0.78727252 0.78936589 0.75697841 0.78217213\n",
      " 0.78566358 0.78721453 0.79513634 0.76156544 0.77908816 0.78590722\n",
      " 0.78727252 0.78936589 0.76156544 0.77908816 0.78590722 0.78727252\n",
      " 0.78936589 0.75697841 0.78217213 0.78566358 0.78721453 0.79513634\n",
      " 0.76156544 0.77908816 0.78590722 0.78727252 0.78936589 0.76156544\n",
      " 0.77908816 0.78590722 0.78727252 0.78936589 0.75697841 0.78217213\n",
      " 0.78566358 0.78721453 0.79513634]\n"
     ]
    }
   ],
   "source": [
    "from sklearn.ensemble import RandomForestClassifier\n",
    "\n",
    "rf = RandomForestClassifier(random_state=1)\n",
    "\n",
    "parameters = {\n",
    "    'n_estimators': [5, 25, 50, 100, 250],\n",
    "    'max_features': ['auto', 'sqrt', 'log2'],\n",
    "    'max_depth': [2, 4, 8, 16, 32, 64, None]\n",
    "}\n",
    "\n",
    "rf_cv = GridSearchCV(estimator=rf, param_grid=parameters, scoring='f1', cv=5)\n",
    "rf_cv.fit(X_train, y_train.values.ravel())\n",
    "print('Mean Test Scores:', rf_cv.cv_results_['mean_test_score'])"
   ]
  },
  {
   "cell_type": "code",
   "execution_count": 7,
   "id": "fe0a5bda",
   "metadata": {},
   "outputs": [
    {
     "data": {
      "text/plain": [
       "['RF.pkl']"
      ]
     },
     "execution_count": 7,
     "metadata": {},
     "output_type": "execute_result"
    }
   ],
   "source": [
    "joblib.dump(rf_cv.best_estimator_, 'RF.pkl')"
   ]
  },
  {
   "cell_type": "markdown",
   "id": "823ca11d",
   "metadata": {},
   "source": [
    "# Gradient Boosting"
   ]
  },
  {
   "cell_type": "code",
   "execution_count": 8,
   "id": "399c4a65",
   "metadata": {},
   "outputs": [
    {
     "name": "stdout",
     "output_type": "stream",
     "text": [
      "Mean Test Scores: [0.         0.68873853 0.74276136 0.75732814 0.7556091  0.\n",
      " 0.7367717  0.75573944 0.75956963 0.75960938 0.         0.73694518\n",
      " 0.75355247 0.76556043 0.77039464 0.         0.74097311 0.76250125\n",
      " 0.7758012  0.78193158 0.         0.74948072 0.76436776 0.77536204\n",
      " 0.77976962 0.71109129 0.75425612 0.75727931 0.75488452 0.75777087\n",
      " 0.73939306 0.75722456 0.76104612 0.76571197 0.77526248 0.73034465\n",
      " 0.76590472 0.77239248 0.77641234 0.77744522 0.74049767 0.77318926\n",
      " 0.77923533 0.77748262 0.77785026 0.74249829 0.77938935 0.78130533\n",
      " 0.77455763 0.77550989 0.75106615 0.73706282 0.73139384 0.73213379\n",
      " 0.7426004  0.7411674  0.73882542 0.75305531 0.75273216 0.75447559\n",
      " 0.74248942 0.75708969 0.76107577 0.76730132 0.76866642 0.74511557\n",
      " 0.76857396 0.77597235 0.77243855 0.77407479 0.7447867  0.76300128\n",
      " 0.77069578 0.76862011 0.76911544 0.14512369 0.14512369 0.14512369\n",
      " 0.14512369 0.14512369 0.18910724 0.18910724 0.18910724 0.18910724\n",
      " 0.18910724 0.55491292 0.54773541 0.54773541 0.54773541 0.54773541\n",
      " 0.55308177 0.53853328 0.53853328 0.53853328 0.53853328 0.56583632\n",
      " 0.50072192 0.50062604 0.50103367 0.50119021 0.61510479 0.61510479\n",
      " 0.61510479 0.61510479 0.61510479 0.50364243 0.50364243 0.50364243\n",
      " 0.50364243 0.50364243 0.33160082 0.33160082 0.33160082 0.33160082\n",
      " 0.33160082 0.33066445 0.32576187 0.32576187 0.32576187 0.32576187\n",
      " 0.3955043  0.40081684 0.40081684 0.40081684 0.40081684]\n"
     ]
    }
   ],
   "source": [
    "from sklearn.ensemble import GradientBoostingClassifier\n",
    "\n",
    "gb = GradientBoostingClassifier(random_state=1)\n",
    "\n",
    "parameters = {\n",
    "    'n_estimators' : [5, 50, 100, 250, 500], \n",
    "    'max_depth' : [2, 4, 6, 8, 10],\n",
    "    'learning_rate' : [0.01, 0.1, 1, 10, 100]\n",
    "}\n",
    "\n",
    "gb_cv = GridSearchCV(estimator=gb, param_grid=parameters, scoring='f1', cv=5)\n",
    "gb_cv.fit(X_train, y_train.values.ravel())\n",
    "print('Mean Test Scores:', gb_cv.cv_results_['mean_test_score'])"
   ]
  },
  {
   "cell_type": "code",
   "execution_count": 9,
   "id": "cd96f19b",
   "metadata": {},
   "outputs": [
    {
     "data": {
      "text/plain": [
       "['GB.pkl']"
      ]
     },
     "execution_count": 9,
     "metadata": {},
     "output_type": "execute_result"
    }
   ],
   "source": [
    "joblib.dump(gb_cv.best_estimator_, 'GB.pkl')"
   ]
  },
  {
   "cell_type": "code",
   "execution_count": null,
   "id": "f21ce6af",
   "metadata": {},
   "outputs": [],
   "source": []
  }
 ],
 "metadata": {
  "kernelspec": {
   "display_name": "Python 3",
   "language": "python",
   "name": "python3"
  },
  "language_info": {
   "codemirror_mode": {
    "name": "ipython",
    "version": 3
   },
   "file_extension": ".py",
   "mimetype": "text/x-python",
   "name": "python",
   "nbconvert_exporter": "python",
   "pygments_lexer": "ipython3",
   "version": "3.8.8"
  }
 },
 "nbformat": 4,
 "nbformat_minor": 5
}
