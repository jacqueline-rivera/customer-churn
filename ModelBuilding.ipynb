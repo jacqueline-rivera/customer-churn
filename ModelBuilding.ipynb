{
 "cells": [
  {
   "cell_type": "code",
   "execution_count": 1,
   "id": "4947574d",
   "metadata": {},
   "outputs": [],
   "source": [
    "import pandas as pd\n",
    "import numpy as np\n",
    "import joblib\n",
    "\n",
    "from sklearn.preprocessing import StandardScaler\n",
    "from sklearn.model_selection import GridSearchCV"
   ]
  },
  {
   "cell_type": "code",
   "execution_count": 2,
   "id": "4dfaa521",
   "metadata": {},
   "outputs": [],
   "source": [
    "X_train = pd.read_csv('X_train.csv')\n",
    "y_train = pd.read_csv('y_train.csv')"
   ]
  },
  {
   "cell_type": "code",
   "execution_count": 3,
   "id": "fd1feaa9",
   "metadata": {},
   "outputs": [],
   "source": [
    "# scale features\n",
    "stdsc = StandardScaler()\n",
    "X_train_std = stdsc.fit_transform(X_train)"
   ]
  },
  {
   "cell_type": "markdown",
   "id": "1b519e15",
   "metadata": {},
   "source": [
    "# Logistic Regression"
   ]
  },
  {
   "cell_type": "code",
   "execution_count": 4,
   "id": "37113f59",
   "metadata": {},
   "outputs": [
    {
     "name": "stdout",
     "output_type": "stream",
     "text": [
      "Mean Test Scores: [0.78011834 0.80071006 0.80047337 0.80260355 0.80307692 0.80260355\n",
      " 0.80260355]\n"
     ]
    }
   ],
   "source": [
    "from sklearn.linear_model import LogisticRegression\n",
    "\n",
    "lr = LogisticRegression(random_state=1)\n",
    "\n",
    "parameters = {\n",
    "    'C': [0.001, 0.01, 0.1, 1, 10, 100, 1000]\n",
    "}\n",
    "\n",
    "lr_cv = GridSearchCV(lr, parameters, cv=5)\n",
    "lr_cv.fit(X_train_std, y_train.values.ravel())\n",
    "print('Mean Test Scores:', lr_cv.cv_results_['mean_test_score'])"
   ]
  },
  {
   "cell_type": "code",
   "execution_count": 5,
   "id": "9250454c",
   "metadata": {},
   "outputs": [
    {
     "data": {
      "text/plain": [
       "['LR.pkl']"
      ]
     },
     "execution_count": 5,
     "metadata": {},
     "output_type": "execute_result"
    }
   ],
   "source": [
    "joblib.dump(lr_cv.best_estimator_, 'LR.pkl')"
   ]
  },
  {
   "cell_type": "markdown",
   "id": "0add1cbb",
   "metadata": {},
   "source": [
    "# Random Forest"
   ]
  },
  {
   "cell_type": "code",
   "execution_count": 6,
   "id": "574ba686",
   "metadata": {},
   "outputs": [
    {
     "name": "stdout",
     "output_type": "stream",
     "text": [
      "Mean Test Scores: [0.77349112 0.75502959 0.75218935 0.75053254 0.75526627 0.77349112\n",
      " 0.75502959 0.75218935 0.75053254 0.75526627 0.73443787 0.74579882\n",
      " 0.73940828 0.74343195 0.74508876 0.78272189 0.78840237 0.78650888\n",
      " 0.78769231 0.78627219 0.78272189 0.78840237 0.78650888 0.78769231\n",
      " 0.78627219 0.77065089 0.78650888 0.78366864 0.78745562 0.78414201\n",
      " 0.78224852 0.79573964 0.7947929  0.79786982 0.79739645 0.78224852\n",
      " 0.79573964 0.7947929  0.79786982 0.79739645 0.78295858 0.79218935\n",
      " 0.79502959 0.79573964 0.7983432  0.77017751 0.7808284  0.78461538\n",
      " 0.7860355  0.7895858  0.77017751 0.7808284  0.78461538 0.7860355\n",
      " 0.7895858  0.76757396 0.78792899 0.78887574 0.78556213 0.78792899\n",
      " 0.76544379 0.78343195 0.78508876 0.78508876 0.78840237 0.76544379\n",
      " 0.78343195 0.78508876 0.78508876 0.78840237 0.76733728 0.78745562\n",
      " 0.79218935 0.78863905 0.78982249 0.76544379 0.78343195 0.78508876\n",
      " 0.78508876 0.78840237 0.76544379 0.78343195 0.78508876 0.78508876\n",
      " 0.78840237 0.76733728 0.78745562 0.79218935 0.78863905 0.78982249\n",
      " 0.76544379 0.78343195 0.78508876 0.78508876 0.78840237 0.76544379\n",
      " 0.78343195 0.78508876 0.78508876 0.78840237 0.76733728 0.78745562\n",
      " 0.79218935 0.78863905 0.78982249]\n"
     ]
    }
   ],
   "source": [
    "from sklearn.ensemble import RandomForestClassifier\n",
    "\n",
    "rf = RandomForestClassifier(random_state=1)\n",
    "\n",
    "parameters = {\n",
    "    'n_estimators': [5, 25, 50, 100, 250],\n",
    "    'max_features': ['auto', 'sqrt', 'log2'],\n",
    "    'max_depth': [2, 4, 8, 16, 32, 64, None]\n",
    "}\n",
    "\n",
    "rf_cv = GridSearchCV(rf, parameters, cv=5)\n",
    "rf_cv.fit(X_train_std, y_train.values.ravel())\n",
    "print('Mean Test Scores:', rf_cv.cv_results_['mean_test_score'])"
   ]
  },
  {
   "cell_type": "code",
   "execution_count": 7,
   "id": "fe0a5bda",
   "metadata": {},
   "outputs": [
    {
     "data": {
      "text/plain": [
       "['RF.pkl']"
      ]
     },
     "execution_count": 7,
     "metadata": {},
     "output_type": "execute_result"
    }
   ],
   "source": [
    "joblib.dump(rf_cv.best_estimator_, 'RF.pkl')"
   ]
  },
  {
   "cell_type": "markdown",
   "id": "e737e0bf",
   "metadata": {},
   "source": [
    "# Gradient Boosting"
   ]
  },
  {
   "cell_type": "code",
   "execution_count": 8,
   "id": "48ad4dec",
   "metadata": {},
   "outputs": [
    {
     "name": "stdout",
     "output_type": "stream",
     "text": [
      "Mean Test Scores: [0.72804734 0.72804734 0.75786982 0.78792899 0.7964497  0.72804734\n",
      " 0.75408284 0.77680473 0.79621302 0.80094675 0.72804734 0.75502959\n",
      " 0.77633136 0.79431953 0.79147929 0.72804734 0.75431953 0.77467456\n",
      " 0.78485207 0.78035503 0.72804734 0.75195266 0.7635503  0.77585799\n",
      " 0.77514793 0.72804734 0.79763314 0.80284024 0.80047337 0.79053254\n",
      " 0.75408284 0.80260355 0.79550296 0.78461538 0.77751479 0.75597633\n",
      " 0.79100592 0.78721893 0.77940828 0.77704142 0.75526627 0.78295858\n",
      " 0.77822485 0.77278107 0.77278107 0.75147929 0.77940828 0.77491124\n",
      " 0.7756213  0.77727811 0.78698225 0.77988166 0.76781065 0.74532544\n",
      " 0.74011834 0.78319527 0.74769231 0.74319527 0.75005917 0.75242604\n",
      " 0.76473373 0.74698225 0.75218935 0.76284024 0.76828402 0.75005917\n",
      " 0.75195266 0.76449704 0.76828402 0.7704142  0.73230769 0.76071006\n",
      " 0.77349112 0.77183432 0.77538462 0.29893491 0.29893491 0.29893491\n",
      " 0.29893491 0.29893491 0.48118343 0.48118343 0.48118343 0.48118343\n",
      " 0.48118343 0.46272189 0.45538462 0.45538462 0.45538462 0.45538462\n",
      " 0.45656805 0.45822485 0.45822485 0.45822485 0.45822485 0.5547929\n",
      " 0.54485207 0.54485207 0.54461538 0.54461538 0.36781065 0.36781065\n",
      " 0.36781065 0.36781065 0.36781065 0.28307692 0.28307692 0.28307692\n",
      " 0.28307692 0.28307692 0.39289941 0.39289941 0.39289941 0.39289941\n",
      " 0.39289941 0.53964497 0.53964497 0.53964497 0.53964497 0.53964497\n",
      " 0.5443787  0.5252071  0.5252071  0.5252071  0.5252071 ]\n"
     ]
    }
   ],
   "source": [
    "from sklearn.ensemble import GradientBoostingClassifier\n",
    "\n",
    "gb = GradientBoostingClassifier(random_state=1)\n",
    "\n",
    "parameters = {\n",
    "    'n_estimators' : [5, 50, 100, 250, 500], \n",
    "    'max_depth' : [2, 4, 6, 8, 10],\n",
    "    'learning_rate' : [0.01, 0.1, 1, 10, 100]\n",
    "}\n",
    "\n",
    "gb_cv = GridSearchCV(gb, parameters, cv=5)\n",
    "gb_cv.fit(X_train_std, y_train.values.ravel())\n",
    "print('Mean Test Scores:', gb_cv.cv_results_['mean_test_score'])"
   ]
  },
  {
   "cell_type": "code",
   "execution_count": 9,
   "id": "a9590645",
   "metadata": {},
   "outputs": [
    {
     "data": {
      "text/plain": [
       "['GB.pkl']"
      ]
     },
     "execution_count": 9,
     "metadata": {},
     "output_type": "execute_result"
    }
   ],
   "source": [
    "joblib.dump(gb_cv.best_estimator_, 'GB.pkl')"
   ]
  },
  {
   "cell_type": "code",
   "execution_count": null,
   "id": "f21ce6af",
   "metadata": {},
   "outputs": [],
   "source": []
  }
 ],
 "metadata": {
  "kernelspec": {
   "display_name": "Python 3",
   "language": "python",
   "name": "python3"
  },
  "language_info": {
   "codemirror_mode": {
    "name": "ipython",
    "version": 3
   },
   "file_extension": ".py",
   "mimetype": "text/x-python",
   "name": "python",
   "nbconvert_exporter": "python",
   "pygments_lexer": "ipython3",
   "version": "3.8.8"
  }
 },
 "nbformat": 4,
 "nbformat_minor": 5
}
